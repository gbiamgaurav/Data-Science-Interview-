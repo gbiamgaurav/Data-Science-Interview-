{
  "nbformat": 4,
  "nbformat_minor": 0,
  "metadata": {
    "colab": {
      "provenance": []
    },
    "kernelspec": {
      "name": "python3",
      "display_name": "Python 3"
    },
    "language_info": {
      "name": "python"
    }
  },
  "cells": [
    {
      "cell_type": "code",
      "execution_count": null,
      "metadata": {
        "id": "GRLD0IWWgZbd"
      },
      "outputs": [],
      "source": [
        "import tensorflow as tf"
      ]
    },
    {
      "cell_type": "code",
      "source": [
        "x = tf.Variable(3.0)\n",
        "y = tf.Variable(2.0)"
      ],
      "metadata": {
        "id": "i0EcyG_qhmCb"
      },
      "execution_count": null,
      "outputs": []
    },
    {
      "cell_type": "markdown",
      "source": [
        "$$f(x,y)=(x^2 + y^2)$$\n",
        "\n",
        "$$\\nabla f(x,y) = \\frac{\\partial f}{\\partial x} \\hat{\\imath} +  \\frac{\\partial f}{\\partial y} \\hat{\\jmath}$$\n",
        "\n",
        "$$\\nabla f(x,y) = 2x\\hat{\\imath} + 2y\\hat{\\jmath}$$\n",
        "\n",
        "$$\\nabla f(x=3,y=2) = 2(3)\\hat{\\imath} + 2(2)\\hat{\\jmath}$$\n",
        "\n"
      ],
      "metadata": {
        "id": "_RpikoQsh1Wb"
      }
    },
    {
      "cell_type": "code",
      "source": [
        "with tf.GradientTape() as tape:\n",
        "  f = tf.square(x) + tf.square(y) \n",
        "\n",
        "  df_dx, df_dy = tape.gradient(f, [x, y])\n",
        "\n",
        "  print(df_dx)\n",
        "  print(df_dy)"
      ],
      "metadata": {
        "colab": {
          "base_uri": "https://localhost:8080/"
        },
        "id": "czy76r0oh0NA",
        "outputId": "3f26854d-916e-419e-c4ff-5f41553eafe3"
      },
      "execution_count": null,
      "outputs": [
        {
          "output_type": "stream",
          "name": "stdout",
          "text": [
            "tf.Tensor(6.0, shape=(), dtype=float32)\n",
            "tf.Tensor(4.0, shape=(), dtype=float32)\n"
          ]
        }
      ]
    },
    {
      "cell_type": "markdown",
      "source": [
        "# Simple linear regression example\n",
        "\n",
        "$$f(x) = W.x + b$$"
      ],
      "metadata": {
        "id": "B3EncZ1EjiGk"
      }
    },
    {
      "cell_type": "code",
      "source": [
        "TRUE_W = 3.0\n",
        "TRUE_B = 2.0\n",
        "\n",
        "NUM_EXAMPLES = 1000\n",
        "\n",
        "\n",
        "x = tf.random.normal(shape=[NUM_EXAMPLES])"
      ],
      "metadata": {
        "id": "5hVryX1TjP-d"
      },
      "execution_count": null,
      "outputs": []
    },
    {
      "cell_type": "code",
      "source": [
        "noise = tf.random.normal(shape=[NUM_EXAMPLES])\n",
        "# noise = 0"
      ],
      "metadata": {
        "id": "PdGqUNufj7aK"
      },
      "execution_count": null,
      "outputs": []
    },
    {
      "cell_type": "code",
      "source": [
        "y = x * TRUE_W + TRUE_B + noise"
      ],
      "metadata": {
        "id": "IQrcfUqHj94i"
      },
      "execution_count": null,
      "outputs": []
    },
    {
      "cell_type": "code",
      "source": [
        "import matplotlib.pyplot as plt\n",
        "\n",
        "plt.scatter(x, y, c='b')\n",
        "plt.show()"
      ],
      "metadata": {
        "colab": {
          "base_uri": "https://localhost:8080/",
          "height": 265
        },
        "id": "5l-RDci9kLJ0",
        "outputId": "bd66621d-da2a-4ea5-d726-bbd7bf8b66e4"
      },
      "execution_count": null,
      "outputs": [
        {
          "output_type": "display_data",
          "data": {
            "text/plain": [
              "<Figure size 432x288 with 1 Axes>"
            ],
            "image/png": "[encoded data removed]"
          },
          "metadata": {
            "needs_background": "light"
          }
        }
      ]
    },
    {
      "cell_type": "markdown",
      "source": [
        "## Model definition"
      ],
      "metadata": {
        "id": "cnqts3Grkhsd"
      }
    },
    {
      "cell_type": "code",
      "source": [
        "class MyModel(tf.Module):\n",
        "  def __init__(self, **kwargs):\n",
        "    super().__init__(**kwargs)\n",
        "\n",
        "    # initial weights\n",
        "    self.w = tf.Variable(5.0) # TRUE_W = 3.0\n",
        "    self.b = tf.Variable(0.0) # TRUE_B = 2.0\n",
        "\n",
        "  def __call__(self, x):\n",
        "    return self.w*x + self.b"
      ],
      "metadata": {
        "id": "jqLX-m7okR26"
      },
      "execution_count": null,
      "outputs": []
    },
    {
      "cell_type": "code",
      "source": [
        "model = MyModel()"
      ],
      "metadata": {
        "id": "7pGL5rxjlLD4"
      },
      "execution_count": null,
      "outputs": []
    },
    {
      "cell_type": "markdown",
      "source": [
        "x | y"
      ],
      "metadata": {
        "id": "912s7aErlUQE"
      }
    },
    {
      "cell_type": "code",
      "source": [
        "model(3)"
      ],
      "metadata": {
        "colab": {
          "base_uri": "https://localhost:8080/"
        },
        "id": "PiY9ug04lQL3",
        "outputId": "c9a15f03-d74f-4108-8577-f496735ac00a"
      },
      "execution_count": null,
      "outputs": [
        {
          "output_type": "execute_result",
          "data": {
            "text/plain": [
              "<tf.Tensor: shape=(), dtype=float32, numpy=15.0>"
            ]
          },
          "metadata": {},
          "execution_count": 10
        }
      ]
    },
    {
      "cell_type": "code",
      "source": [
        "model.w"
      ],
      "metadata": {
        "colab": {
          "base_uri": "https://localhost:8080/"
        },
        "id": "qdBwMK-albGk",
        "outputId": "de0ff34f-d83b-4102-bfac-f633874d878f"
      },
      "execution_count": null,
      "outputs": [
        {
          "output_type": "execute_result",
          "data": {
            "text/plain": [
              "<tf.Variable 'Variable:0' shape=() dtype=float32, numpy=5.0>"
            ]
          },
          "metadata": {},
          "execution_count": 11
        }
      ]
    },
    {
      "cell_type": "code",
      "source": [
        "model.b"
      ],
      "metadata": {
        "colab": {
          "base_uri": "https://localhost:8080/"
        },
        "id": "YdTTNA_alnhi",
        "outputId": "8abdb126-1039-49d7-e276-11cc2eb01add"
      },
      "execution_count": null,
      "outputs": [
        {
          "output_type": "execute_result",
          "data": {
            "text/plain": [
              "<tf.Variable 'Variable:0' shape=() dtype=float32, numpy=0.0>"
            ]
          },
          "metadata": {},
          "execution_count": 12
        }
      ]
    },
    {
      "cell_type": "markdown",
      "source": [
        "## Define loss function"
      ],
      "metadata": {
        "id": "oJbkw3SplwMB"
      }
    },
    {
      "cell_type": "code",
      "source": [
        "def MSE_loss(target_y, predicted_y):\n",
        "  error = target_y - predicted_y\n",
        "  squared_error = tf.square(error)\n",
        "  mse = tf.reduce_mean(squared_error)\n",
        "  return mse"
      ],
      "metadata": {
        "id": "SB7dWCGplpCT"
      },
      "execution_count": null,
      "outputs": []
    },
    {
      "cell_type": "code",
      "source": [
        "plt.scatter(x, y, c=\"b\")\n",
        "\n",
        "pred_y = model(x) # its an untrained model\n",
        "plt.scatter(x, pred_y, c=\"r\")\n",
        "\n",
        "plt.show()\n"
      ],
      "metadata": {
        "colab": {
          "base_uri": "https://localhost:8080/"
        },
        "id": "j1EFA8Z1mK1K",
        "outputId": "e4b9123a-2a68-466b-b3cf-3e18c9447d18"
      },
      "execution_count": null,
      "outputs": [
        {
          "output_type": "display_data",
          "data": {
            "text/plain": [
              "<Figure size 432x288 with 1 Axes>"
            ],
            "image/png": "[encoded data removed]"
          },
          "metadata": {
            "needs_background": "light"
          }
        }
      ]
    },
    {
      "cell_type": "code",
      "source": [
        "current_loss = MSE_loss(y, model(x))\n",
        "current_loss"
      ],
      "metadata": {
        "colab": {
          "base_uri": "https://localhost:8080/"
        },
        "id": "LNu-uatimZWS",
        "outputId": "b2776950-ff11-43fa-a8c1-70f906825ce3"
      },
      "execution_count": null,
      "outputs": [
        {
          "output_type": "execute_result",
          "data": {
            "text/plain": [
              "<tf.Tensor: shape=(), dtype=float32, numpy=9.077824>"
            ]
          },
          "metadata": {},
          "execution_count": 15
        }
      ]
    },
    {
      "cell_type": "code",
      "source": [
        "current_loss.numpy()"
      ],
      "metadata": {
        "colab": {
          "base_uri": "https://localhost:8080/"
        },
        "id": "arEWlnQeml2_",
        "outputId": "2f02d288-6bc4-44cb-cc9d-89f5fd918480"
      },
      "execution_count": null,
      "outputs": [
        {
          "output_type": "execute_result",
          "data": {
            "text/plain": [
              "9.077824"
            ]
          },
          "metadata": {},
          "execution_count": 16
        }
      ]
    },
    {
      "cell_type": "markdown",
      "source": [
        "## Define training function"
      ],
      "metadata": {
        "id": "FiofwLH7mtMP"
      }
    },
    {
      "cell_type": "code",
      "source": [
        "def train(model, x, y, learning_rate):\n",
        "\n",
        "  with tf.GradientTape() as tape:\n",
        "    y_hat = model(x)\n",
        "    current_loss = MSE_loss(y, y_hat)\n",
        "\n",
        "  dc_dw, dc_db = tape.gradient(current_loss, [model.w, model.b])\n",
        "\n",
        "  model.w.assign_sub(learning_rate * dc_dw) # w = w - n * grad => w -= n*grad_w\n",
        "  model.b.assign_sub(learning_rate * dc_db) # b = b - n * grad => b -= n*grad_b"
      ],
      "metadata": {
        "id": "6BAm9sqSmorl"
      },
      "execution_count": null,
      "outputs": []
    },
    {
      "cell_type": "code",
      "source": [
        "model = MyModel()\n",
        "\n",
        "Ws, bs = list(), list()\n",
        "\n",
        "epochs = 20\n",
        "\n",
        "learning_rate = 0.1\n",
        "\n",
        "w = model.w.numpy()\n",
        "b = model.b.numpy()\n",
        "\n",
        "init_loss = MSE_loss(y, model(x)).numpy()\n",
        "\n",
        "print(f\"initial W: {w}, initial_bias: {b}, initial loss: {init_loss}\")"
      ],
      "metadata": {
        "colab": {
          "base_uri": "https://localhost:8080/"
        },
        "id": "DyHUanzin2UW",
        "outputId": "fcd381ca-c597-415e-eb48-95f3d1ec206a"
      },
      "execution_count": null,
      "outputs": [
        {
          "output_type": "stream",
          "name": "stdout",
          "text": [
            "initial W: 5.0, initial_bias: 0.0, initial loss: 9.077823638916016\n"
          ]
        }
      ]
    },
    {
      "cell_type": "code",
      "source": [
        "for epoch in range(epochs):\n",
        "  train(model, x, y, learning_rate)\n",
        "\n",
        "  Ws.append(model.w.numpy())\n",
        "  bs.append(model.b.numpy())\n",
        "\n",
        "  current_loss = MSE_loss(y, model(x))\n",
        "\n",
        "  print(f\"For epoch: {epoch}, W: {Ws[-1]}, initial_bias: {bs[-1]}, current loss: {current_loss}\")"
      ],
      "metadata": {
        "colab": {
          "base_uri": "https://localhost:8080/"
        },
        "id": "lP5RK547oZQA",
        "outputId": "fee601aa-479d-494c-f36d-2efe42408822"
      },
      "execution_count": null,
      "outputs": [
        {
          "output_type": "stream",
          "name": "stdout",
          "text": [
            "For epoch: 0, W: 4.613045692443848, initial_bias: 0.41464763879776, current loss: 6.180232048034668\n",
            "For epoch: 1, W: 4.301718711853027, initial_bias: 0.7459718585014343, current loss: 4.318243026733398\n",
            "For epoch: 2, W: 4.051236152648926, initial_bias: 1.0107142925262451, current loss: 3.121676206588745\n",
            "For epoch: 3, W: 3.8497049808502197, initial_bias: 1.2222533226013184, current loss: 2.3526909351348877\n",
            "For epoch: 4, W: 3.6875572204589844, initial_bias: 1.3912794589996338, current loss: 1.8584719896316528\n",
            "For epoch: 5, W: 3.5570952892303467, initial_bias: 1.5263352394104004, current loss: 1.5408273935317993\n",
            "For epoch: 6, W: 3.4521262645721436, initial_bias: 1.634247064590454, current loss: 1.336660385131836\n",
            "For epoch: 7, W: 3.3676681518554688, initial_bias: 1.7204697132110596, current loss: 1.2054253816604614\n",
            "For epoch: 8, W: 3.2997124195098877, initial_bias: 1.789361834526062, current loss: 1.121065616607666\n",
            "For epoch: 9, W: 3.2450342178344727, initial_bias: 1.8444063663482666, current loss: 1.0668354034423828\n",
            "For epoch: 10, W: 3.2010388374328613, initial_bias: 1.8883863687515259, current loss: 1.0319719314575195\n",
            "For epoch: 11, W: 3.1656386852264404, initial_bias: 1.9235255718231201, current loss: 1.009557843208313\n",
            "For epoch: 12, W: 3.1371545791625977, initial_bias: 1.9516009092330933, current loss: 0.9951469898223877\n",
            "For epoch: 13, W: 3.1142349243164062, initial_bias: 1.9740321636199951, current loss: 0.9858810305595398\n",
            "For epoch: 14, W: 3.095792531967163, initial_bias: 1.9919538497924805, current loss: 0.9799230694770813\n",
            "For epoch: 15, W: 3.0809528827667236, initial_bias: 2.006272554397583, current loss: 0.9760918617248535\n",
            "For epoch: 16, W: 3.069011688232422, initial_bias: 2.017712354660034, current loss: 0.9736281037330627\n",
            "For epoch: 17, W: 3.0594029426574707, initial_bias: 2.0268518924713135, current loss: 0.9720436930656433\n",
            "For epoch: 18, W: 3.051671028137207, initial_bias: 2.034153938293457, current loss: 0.9710245728492737\n",
            "For epoch: 19, W: 3.0454492568969727, initial_bias: 2.039987564086914, current loss: 0.970369279384613\n"
          ]
        }
      ]
    },
    {
      "cell_type": "code",
      "source": [
        "[5]*20"
      ],
      "metadata": {
        "colab": {
          "base_uri": "https://localhost:8080/"
        },
        "id": "YfreItY4tcPM",
        "outputId": "99b88b45-cc37-4014-a460-705bd0a6a425"
      },
      "execution_count": null,
      "outputs": [
        {
          "output_type": "execute_result",
          "data": {
            "text/plain": [
              "[5, 5, 5, 5, 5, 5, 5, 5, 5, 5, 5, 5, 5, 5, 5, 5, 5, 5, 5, 5]"
            ]
          },
          "metadata": {},
          "execution_count": 20
        }
      ]
    },
    {
      "cell_type": "code",
      "source": [
        "plt.plot(range(epochs), Ws, \"r\", range(epochs), bs, \"b\") # Training line\n",
        "\n",
        "plt.plot([TRUE_W]*epochs, \"r--\", [TRUE_B]*epochs, \"b--\") # Target line\n",
        "\n",
        "plt.legend([\"W\", \"b\", \"True W\", \"True B\"])\n",
        "\n",
        "plt.show()"
      ],
      "metadata": {
        "colab": {
          "base_uri": "https://localhost:8080/"
        },
        "id": "WkEA0nQ3o_9Q",
        "outputId": "cbb8af96-b3e4-4fce-88dc-6c76dbdfd5ed"
      },
      "execution_count": null,
      "outputs": [
        {
          "output_type": "display_data",
          "data": {
            "text/plain": [
              "<Figure size 432x288 with 1 Axes>"
            ],
            "image/png": "[encoded data removed]"
          },
          "metadata": {
            "needs_background": "light"
          }
        }
      ]
    },
    {
      "cell_type": "code",
      "source": [
        "plt.scatter(x, y, c=\"b\")\n",
        "\n",
        "pred_y = model(x) # after training\n",
        "plt.scatter(x, pred_y, c=\"r\")\n",
        "\n",
        "plt.show()\n"
      ],
      "metadata": {
        "colab": {
          "base_uri": "https://localhost:8080/"
        },
        "id": "7Ye0-3y7pgIW",
        "outputId": "5b9dfbe2-deb1-4949-b53c-454ec5cce3c4"
      },
      "execution_count": null,
      "outputs": [
        {
          "output_type": "display_data",
          "data": {
            "text/plain": [
              "<Figure size 432x288 with 1 Axes>"
            ],
            "image/png": "[encoded data removed]"
          },
          "metadata": {
            "needs_background": "light"
          }
        }
      ]
    },
    {
      "cell_type": "code",
      "source": [],
      "metadata": {
        "id": "uMsoKM4Iprle"
      },
      "execution_count": null,
      "outputs": []
    },
    {
      "cell_type": "code",
      "source": [],
      "metadata": {
        "id": "Pd6fdWn-uDeC"
      },
      "execution_count": null,
      "outputs": []
    },
    {
      "cell_type": "markdown",
      "source": [
        "# LARGE LEARNING RATE :linear regression example\n",
        "\n",
        "$$f(x) = W.x + b$$"
      ],
      "metadata": {
        "id": "RnYbGXaPuJwL"
      }
    },
    {
      "cell_type": "code",
      "source": [
        "TRUE_W = 3.0\n",
        "TRUE_B = 2.0\n",
        "\n",
        "NUM_EXAMPLES = 1000\n",
        "\n",
        "\n",
        "x = tf.random.normal(shape=[NUM_EXAMPLES])"
      ],
      "metadata": {
        "id": "-qbQxCbLuJwL"
      },
      "execution_count": null,
      "outputs": []
    },
    {
      "cell_type": "code",
      "source": [
        "noise = tf.random.normal(shape=[NUM_EXAMPLES])\n",
        "# noise = 0"
      ],
      "metadata": {
        "id": "_nmUcFdquJwM"
      },
      "execution_count": null,
      "outputs": []
    },
    {
      "cell_type": "code",
      "source": [
        "y = x * TRUE_W + TRUE_B + noise"
      ],
      "metadata": {
        "id": "PN_5018quJwM"
      },
      "execution_count": null,
      "outputs": []
    },
    {
      "cell_type": "code",
      "source": [
        "import matplotlib.pyplot as plt\n",
        "\n",
        "plt.scatter(x, y, c='b')\n",
        "plt.show()"
      ],
      "metadata": {
        "colab": {
          "base_uri": "https://localhost:8080/",
          "height": 265
        },
        "outputId": "5f9c6ffc-3161-49bd-fcde-acf4b56f45ef",
        "id": "pifdMQrnuJwM"
      },
      "execution_count": null,
      "outputs": [
        {
          "output_type": "display_data",
          "data": {
            "text/plain": [
              "<Figure size 432x288 with 1 Axes>"
            ],
            "image/png": "[encoded data removed]"
          },
          "metadata": {
            "needs_background": "light"
          }
        }
      ]
    },
    {
      "cell_type": "markdown",
      "source": [
        "## Model definition"
      ],
      "metadata": {
        "id": "qdF2j377uJwM"
      }
    },
    {
      "cell_type": "code",
      "source": [
        "class MyModel(tf.Module):\n",
        "  def __init__(self, **kwargs):\n",
        "    super().__init__(**kwargs)\n",
        "\n",
        "    # initial weights\n",
        "    self.w = tf.Variable(5.0) # TRUE_W = 3.0\n",
        "    self.b = tf.Variable(0.0) # TRUE_B = 2.0\n",
        "\n",
        "  def __call__(self, x):\n",
        "    return self.w*x + self.b"
      ],
      "metadata": {
        "id": "Om9MSvzDuJwM"
      },
      "execution_count": null,
      "outputs": []
    },
    {
      "cell_type": "code",
      "source": [
        "model = MyModel()"
      ],
      "metadata": {
        "id": "zoWFWZ9wuJwN"
      },
      "execution_count": null,
      "outputs": []
    },
    {
      "cell_type": "markdown",
      "source": [
        "x | y"
      ],
      "metadata": {
        "id": "_L1A09qvuJwN"
      }
    },
    {
      "cell_type": "code",
      "source": [
        "model(3)"
      ],
      "metadata": {
        "colab": {
          "base_uri": "https://localhost:8080/"
        },
        "outputId": "4c5f6538-92cb-48e5-afb6-4eae8be7bfc7",
        "id": "xkcM97eRuJwN"
      },
      "execution_count": null,
      "outputs": [
        {
          "output_type": "execute_result",
          "data": {
            "text/plain": [
              "<tf.Tensor: shape=(), dtype=float32, numpy=15.0>"
            ]
          },
          "metadata": {},
          "execution_count": 29
        }
      ]
    },
    {
      "cell_type": "code",
      "source": [
        "model.w"
      ],
      "metadata": {
        "colab": {
          "base_uri": "https://localhost:8080/"
        },
        "outputId": "cc98d4f0-d74a-4fba-8e6c-3cfb28efd68b",
        "id": "xzU7IGzMuJwN"
      },
      "execution_count": null,
      "outputs": [
        {
          "output_type": "execute_result",
          "data": {
            "text/plain": [
              "<tf.Variable 'Variable:0' shape=() dtype=float32, numpy=5.0>"
            ]
          },
          "metadata": {},
          "execution_count": 30
        }
      ]
    },
    {
      "cell_type": "code",
      "source": [
        "model.b"
      ],
      "metadata": {
        "colab": {
          "base_uri": "https://localhost:8080/"
        },
        "outputId": "3655e9ee-1a8c-48f4-98c8-7e1acba21013",
        "id": "2rgP71TiuJwO"
      },
      "execution_count": null,
      "outputs": [
        {
          "output_type": "execute_result",
          "data": {
            "text/plain": [
              "<tf.Variable 'Variable:0' shape=() dtype=float32, numpy=0.0>"
            ]
          },
          "metadata": {},
          "execution_count": 31
        }
      ]
    },
    {
      "cell_type": "markdown",
      "source": [
        "## Define loss function"
      ],
      "metadata": {
        "id": "s2iIiQ5uuJwO"
      }
    },
    {
      "cell_type": "code",
      "source": [
        "def MSE_loss(target_y, predicted_y):\n",
        "  error = target_y - predicted_y\n",
        "  squared_error = tf.square(error)\n",
        "  mse = tf.reduce_mean(squared_error)\n",
        "  return mse"
      ],
      "metadata": {
        "id": "rbW1FHTfuJwO"
      },
      "execution_count": null,
      "outputs": []
    },
    {
      "cell_type": "code",
      "source": [
        "plt.scatter(x, y, c=\"b\")\n",
        "\n",
        "pred_y = model(x) # its an untrained model\n",
        "plt.scatter(x, pred_y, c=\"r\")\n",
        "\n",
        "plt.show()\n"
      ],
      "metadata": {
        "colab": {
          "base_uri": "https://localhost:8080/"
        },
        "outputId": "3eccbc85-4815-4a9e-d82a-ffb84e82d9ac",
        "id": "EaCl0J4ZuJwO"
      },
      "execution_count": null,
      "outputs": [
        {
          "output_type": "display_data",
          "data": {
            "text/plain": [
              "<Figure size 432x288 with 1 Axes>"
            ],
            "image/png": "[encoded data removed]"
          },
          "metadata": {
            "needs_background": "light"
          }
        }
      ]
    },
    {
      "cell_type": "code",
      "source": [
        "current_loss = MSE_loss(y, model(x))\n",
        "current_loss"
      ],
      "metadata": {
        "colab": {
          "base_uri": "https://localhost:8080/"
        },
        "outputId": "5871a366-ae1b-43dc-faf8-9195cb9f728a",
        "id": "AShD2MAuuJwO"
      },
      "execution_count": null,
      "outputs": [
        {
          "output_type": "execute_result",
          "data": {
            "text/plain": [
              "<tf.Tensor: shape=(), dtype=float32, numpy=8.6117325>"
            ]
          },
          "metadata": {},
          "execution_count": 34
        }
      ]
    },
    {
      "cell_type": "code",
      "source": [
        "current_loss.numpy()"
      ],
      "metadata": {
        "colab": {
          "base_uri": "https://localhost:8080/"
        },
        "outputId": "29b19f76-f4f7-4368-fd2d-37e6a976091c",
        "id": "oSpF9QQCuJwO"
      },
      "execution_count": null,
      "outputs": [
        {
          "output_type": "execute_result",
          "data": {
            "text/plain": [
              "8.6117325"
            ]
          },
          "metadata": {},
          "execution_count": 35
        }
      ]
    },
    {
      "cell_type": "markdown",
      "source": [
        "## Define training function"
      ],
      "metadata": {
        "id": "BakXIDeauJwO"
      }
    },
    {
      "cell_type": "code",
      "source": [
        "def train(model, x, y, learning_rate):\n",
        "\n",
        "  with tf.GradientTape() as tape:\n",
        "    y_hat = model(x)\n",
        "    current_loss = MSE_loss(y, y_hat)\n",
        "\n",
        "  dc_dw, dc_db = tape.gradient(current_loss, [model.w, model.b])\n",
        "\n",
        "  model.w.assign_sub(learning_rate * dc_dw) # w = w - n * grad => w -= n*grad_w\n",
        "  model.b.assign_sub(learning_rate * dc_db) # b = b - n * grad => b -= n*grad_b"
      ],
      "metadata": {
        "id": "OThfjwGHuJwP"
      },
      "execution_count": null,
      "outputs": []
    },
    {
      "cell_type": "code",
      "source": [
        "model = MyModel()\n",
        "\n",
        "Ws, bs = list(), list()\n",
        "\n",
        "epochs = 20\n",
        "\n",
        "learning_rate = 0.9 # LARGE LEARNING RATE\n",
        "\n",
        "w = model.w.numpy()\n",
        "b = model.b.numpy()\n",
        "\n",
        "init_loss = MSE_loss(y, model(x)).numpy()\n",
        "\n",
        "print(f\"initial W: {w}, initial_bias: {b}, initial loss: {init_loss}\")"
      ],
      "metadata": {
        "colab": {
          "base_uri": "https://localhost:8080/"
        },
        "outputId": "b81ef8e0-1bfb-45aa-fd9c-5acab7fba23b",
        "id": "nJd4xpHuuJwP"
      },
      "execution_count": null,
      "outputs": [
        {
          "output_type": "stream",
          "name": "stdout",
          "text": [
            "initial W: 5.0, initial_bias: 0.0, initial loss: 8.611732482910156\n"
          ]
        }
      ]
    },
    {
      "cell_type": "code",
      "source": [
        "for epoch in range(epochs):\n",
        "  train(model, x, y, learning_rate)\n",
        "\n",
        "  Ws.append(model.w.numpy())\n",
        "  bs.append(model.b.numpy())\n",
        "\n",
        "  current_loss = MSE_loss(y, model(x))\n",
        "\n",
        "  print(f\"For epoch: {epoch}, W: {Ws[-1]}, initial_bias: {bs[-1]}, current loss: {current_loss}\")"
      ],
      "metadata": {
        "colab": {
          "base_uri": "https://localhost:8080/"
        },
        "outputId": "684a6d6b-06ad-44e1-f17f-64c4ea26b161",
        "id": "JIka1gvFuJwP"
      },
      "execution_count": null,
      "outputs": [
        {
          "output_type": "stream",
          "name": "stdout",
          "text": [
            "For epoch: 0, W: 1.6004328727722168, initial_bias: 3.5207250118255615, current loss: 5.350274562835693\n",
            "For epoch: 1, W: 4.036056995391846, initial_bias: 0.7366766929626465, current loss: 3.5151309967041016\n",
            "For epoch: 2, W: 2.2935545444488525, initial_bias: 2.940607786178589, current loss: 2.4730117321014404\n",
            "For epoch: 3, W: 3.538151264190674, initial_bias: 1.1941378116607666, current loss: 1.875509262084961\n",
            "For epoch: 4, W: 2.65083646774292, initial_bias: 2.5794036388397217, current loss: 1.5295315980911255\n",
            "For epoch: 5, W: 3.2820918560028076, initial_bias: 1.479682207107544, current loss: 1.3271958827972412\n",
            "For epoch: 6, W: 2.8340959548950195, initial_bias: 2.3534185886383057, current loss: 1.2076994180679321\n",
            "For epoch: 7, W: 3.15114164352417, initial_bias: 1.6587164402008057, current loss: 1.1364531517028809\n",
            "For epoch: 8, W: 2.927499771118164, initial_bias: 2.211444139480591, current loss: 1.0935900211334229\n",
            "For epoch: 9, W: 3.084655284881592, initial_bias: 1.7714022397994995, current loss: 1.0675848722457886\n",
            "For epoch: 10, W: 2.974714517593384, initial_bias: 2.121931791305542, current loss: 1.0516852140426636\n",
            "For epoch: 11, W: 3.0512170791625977, initial_bias: 1.8425602912902832, current loss: 1.0418962240219116\n",
            "For epoch: 12, W: 2.998322010040283, initial_bias: 2.0653252601623535, current loss: 1.0358318090438843\n",
            "For epoch: 13, W: 3.034611225128174, initial_bias: 1.8876194953918457, current loss: 1.0320541858673096\n",
            "For epoch: 14, W: 3.0099525451660156, initial_bias: 2.0294368267059326, current loss: 1.029689908027649\n",
            "For epoch: 15, W: 3.0265066623687744, initial_bias: 1.9162189960479736, current loss: 1.0282039642333984\n",
            "For epoch: 16, W: 3.0155656337738037, initial_bias: 2.0066349506378174, current loss: 1.0272669792175293\n",
            "For epoch: 17, W: 3.0226476192474365, initial_bias: 1.9344067573547363, current loss: 1.0266742706298828\n",
            "For epoch: 18, W: 3.0181946754455566, initial_bias: 1.9921215772628784, current loss: 1.0262982845306396\n",
            "For epoch: 19, W: 3.020876884460449, initial_bias: 1.945992350578308, current loss: 1.026059627532959\n"
          ]
        }
      ]
    },
    {
      "cell_type": "code",
      "source": [
        "[5]*20"
      ],
      "metadata": {
        "colab": {
          "base_uri": "https://localhost:8080/"
        },
        "outputId": "ab276504-4459-4c0f-8068-8d4aeaa190e0",
        "id": "uppBXjYxuJwP"
      },
      "execution_count": null,
      "outputs": [
        {
          "output_type": "execute_result",
          "data": {
            "text/plain": [
              "[5, 5, 5, 5, 5, 5, 5, 5, 5, 5, 5, 5, 5, 5, 5, 5, 5, 5, 5, 5]"
            ]
          },
          "metadata": {},
          "execution_count": 39
        }
      ]
    },
    {
      "cell_type": "code",
      "source": [
        "plt.plot(range(epochs), Ws, \"r\", range(epochs), bs, \"b\") # Training line\n",
        "\n",
        "plt.plot([TRUE_W]*epochs, \"r--\", [TRUE_B]*epochs, \"b--\") # Target line\n",
        "\n",
        "plt.legend([\"W\", \"b\", \"True W\", \"True B\"])\n",
        "\n",
        "plt.show()"
      ],
      "metadata": {
        "colab": {
          "base_uri": "https://localhost:8080/"
        },
        "outputId": "56dc6813-8e05-4fce-b79e-478633da94e0",
        "id": "klu5kl2quJwP"
      },
      "execution_count": null,
      "outputs": [
        {
          "output_type": "display_data",
          "data": {
            "text/plain": [
              "<Figure size 432x288 with 1 Axes>"
            ],
            "image/png": "[encoded data removed]"
          },
          "metadata": {
            "needs_background": "light"
          }
        }
      ]
    },
    {
      "cell_type": "code",
      "source": [
        "plt.scatter(x, y, c=\"b\")\n",
        "\n",
        "pred_y = model(x) # after training\n",
        "plt.scatter(x, pred_y, c=\"r\")\n",
        "\n",
        "plt.show()\n"
      ],
      "metadata": {
        "colab": {
          "base_uri": "https://localhost:8080/"
        },
        "outputId": "2c356e5a-440f-43fc-b99b-6fd3fd3065c1",
        "id": "6ocUIRfcuJwP"
      },
      "execution_count": null,
      "outputs": [
        {
          "output_type": "display_data",
          "data": {
            "text/plain": [
              "<Figure size 432x288 with 1 Axes>"
            ],
            "image/png": "[encoded data removed]"
          },
          "metadata": {
            "needs_background": "light"
          }
        }
      ]
    },
    {
      "cell_type": "code",
      "source": [],
      "metadata": {
        "id": "6UpdD5YRugL5"
      },
      "execution_count": null,
      "outputs": []
    },
    {
      "cell_type": "code",
      "source": [],
      "metadata": {
        "id": "q3WZthLJuyiG"
      },
      "execution_count": null,
      "outputs": []
    },
    {
      "cell_type": "markdown",
      "source": [
        "# LOW LEARNING RATE: linear regression example\n",
        "\n",
        "$$f(x) = W.x + b$$"
      ],
      "metadata": {
        "id": "9hCGcXKfuy-v"
      }
    },
    {
      "cell_type": "code",
      "source": [
        "TRUE_W = 3.0\n",
        "TRUE_B = 2.0\n",
        "\n",
        "NUM_EXAMPLES = 1000\n",
        "\n",
        "\n",
        "x = tf.random.normal(shape=[NUM_EXAMPLES])"
      ],
      "metadata": {
        "id": "YsqAYnHiuy-v"
      },
      "execution_count": null,
      "outputs": []
    },
    {
      "cell_type": "code",
      "source": [
        "noise = tf.random.normal(shape=[NUM_EXAMPLES])\n",
        "# noise = 0"
      ],
      "metadata": {
        "id": "VM8olwtTuy-v"
      },
      "execution_count": null,
      "outputs": []
    },
    {
      "cell_type": "code",
      "source": [
        "y = x * TRUE_W + TRUE_B + noise"
      ],
      "metadata": {
        "id": "mAMtLWXxuy-w"
      },
      "execution_count": null,
      "outputs": []
    },
    {
      "cell_type": "code",
      "source": [
        "import matplotlib.pyplot as plt\n",
        "\n",
        "plt.scatter(x, y, c='b')\n",
        "plt.show()"
      ],
      "metadata": {
        "colab": {
          "base_uri": "https://localhost:8080/",
          "height": 265
        },
        "outputId": "b1f67353-32d1-4d9f-aebe-3e73703868c3",
        "id": "jgljkUrkuy-w"
      },
      "execution_count": null,
      "outputs": [
        {
          "output_type": "display_data",
          "data": {
            "text/plain": [
              "<Figure size 432x288 with 1 Axes>"
            ],
            "image/png": "[encoded data removed]"
          },
          "metadata": {
            "needs_background": "light"
          }
        }
      ]
    },
    {
      "cell_type": "markdown",
      "source": [
        "## Model definition"
      ],
      "metadata": {
        "id": "zv37uvC0uy-w"
      }
    },
    {
      "cell_type": "code",
      "source": [
        "class MyModel(tf.Module):\n",
        "  def __init__(self, **kwargs):\n",
        "    super().__init__(**kwargs)\n",
        "\n",
        "    # initial weights\n",
        "    self.w = tf.Variable(5.0) # TRUE_W = 3.0\n",
        "    self.b = tf.Variable(0.0) # TRUE_B = 2.0\n",
        "\n",
        "  def __call__(self, x):\n",
        "    return self.w*x + self.b"
      ],
      "metadata": {
        "id": "e_WRFI2yuy-w"
      },
      "execution_count": null,
      "outputs": []
    },
    {
      "cell_type": "code",
      "source": [
        "model = MyModel()"
      ],
      "metadata": {
        "id": "qJNLZ1t3uy-w"
      },
      "execution_count": null,
      "outputs": []
    },
    {
      "cell_type": "markdown",
      "source": [
        "x | y"
      ],
      "metadata": {
        "id": "SV6lFJaQuy-w"
      }
    },
    {
      "cell_type": "code",
      "source": [
        "model(3)"
      ],
      "metadata": {
        "colab": {
          "base_uri": "https://localhost:8080/"
        },
        "outputId": "8c64a50b-b246-4bd9-bbbd-2069801256f9",
        "id": "PM6DFWk3uy-w"
      },
      "execution_count": null,
      "outputs": [
        {
          "output_type": "execute_result",
          "data": {
            "text/plain": [
              "<tf.Tensor: shape=(), dtype=float32, numpy=15.0>"
            ]
          },
          "metadata": {},
          "execution_count": 48
        }
      ]
    },
    {
      "cell_type": "code",
      "source": [
        "model.w"
      ],
      "metadata": {
        "colab": {
          "base_uri": "https://localhost:8080/"
        },
        "outputId": "b8adc9c7-0dd5-439e-d04b-6451770bdc24",
        "id": "z7ThWnwSuy-w"
      },
      "execution_count": null,
      "outputs": [
        {
          "output_type": "execute_result",
          "data": {
            "text/plain": [
              "<tf.Variable 'Variable:0' shape=() dtype=float32, numpy=5.0>"
            ]
          },
          "metadata": {},
          "execution_count": 49
        }
      ]
    },
    {
      "cell_type": "code",
      "source": [
        "model.b"
      ],
      "metadata": {
        "colab": {
          "base_uri": "https://localhost:8080/"
        },
        "outputId": "3669688e-f8ce-4297-9a40-d070426a24f6",
        "id": "xhN7Uox5uy-x"
      },
      "execution_count": null,
      "outputs": [
        {
          "output_type": "execute_result",
          "data": {
            "text/plain": [
              "<tf.Variable 'Variable:0' shape=() dtype=float32, numpy=0.0>"
            ]
          },
          "metadata": {},
          "execution_count": 50
        }
      ]
    },
    {
      "cell_type": "markdown",
      "source": [
        "## Define loss function"
      ],
      "metadata": {
        "id": "u15hCSFquy-x"
      }
    },
    {
      "cell_type": "code",
      "source": [
        "def MSE_loss(target_y, predicted_y):\n",
        "  error = target_y - predicted_y\n",
        "  squared_error = tf.square(error)\n",
        "  mse = tf.reduce_mean(squared_error)\n",
        "  return mse"
      ],
      "metadata": {
        "id": "SsQLHEZFuy-x"
      },
      "execution_count": null,
      "outputs": []
    },
    {
      "cell_type": "code",
      "source": [
        "plt.scatter(x, y, c=\"b\")\n",
        "\n",
        "pred_y = model(x) # its an untrained model\n",
        "plt.scatter(x, pred_y, c=\"r\")\n",
        "\n",
        "plt.show()\n"
      ],
      "metadata": {
        "colab": {
          "base_uri": "https://localhost:8080/",
          "height": 265
        },
        "outputId": "dd87207b-5550-42e7-ca0a-42c14eaf2830",
        "id": "75GjKkaFuy-x"
      },
      "execution_count": null,
      "outputs": [
        {
          "output_type": "display_data",
          "data": {
            "text/plain": [
              "<Figure size 432x288 with 1 Axes>"
            ],
            "image/png": "[encoded data removed]"
          },
          "metadata": {
            "needs_background": "light"
          }
        }
      ]
    },
    {
      "cell_type": "code",
      "source": [
        "current_loss = MSE_loss(y, model(x))\n",
        "current_loss"
      ],
      "metadata": {
        "colab": {
          "base_uri": "https://localhost:8080/"
        },
        "outputId": "070e155f-ccd0-4e03-85cf-7b994e2c1134",
        "id": "yJaD5ByRuy-x"
      },
      "execution_count": null,
      "outputs": [
        {
          "output_type": "execute_result",
          "data": {
            "text/plain": [
              "<tf.Tensor: shape=(), dtype=float32, numpy=9.09107>"
            ]
          },
          "metadata": {},
          "execution_count": 53
        }
      ]
    },
    {
      "cell_type": "code",
      "source": [
        "current_loss.numpy()"
      ],
      "metadata": {
        "colab": {
          "base_uri": "https://localhost:8080/"
        },
        "outputId": "bbad613a-7ee6-48a0-9a21-42bad39b1334",
        "id": "kVjgxnfuuy-x"
      },
      "execution_count": null,
      "outputs": [
        {
          "output_type": "execute_result",
          "data": {
            "text/plain": [
              "9.09107"
            ]
          },
          "metadata": {},
          "execution_count": 54
        }
      ]
    },
    {
      "cell_type": "markdown",
      "source": [
        "## Define training function"
      ],
      "metadata": {
        "id": "vECUS4H6uy-x"
      }
    },
    {
      "cell_type": "code",
      "source": [
        "def train(model, x, y, learning_rate):\n",
        "\n",
        "  with tf.GradientTape() as tape:\n",
        "    y_hat = model(x)\n",
        "    current_loss = MSE_loss(y, y_hat)\n",
        "\n",
        "  dc_dw, dc_db = tape.gradient(current_loss, [model.w, model.b])\n",
        "\n",
        "  model.w.assign_sub(learning_rate * dc_dw) # w = w - n * grad => w -= n*grad_w\n",
        "  model.b.assign_sub(learning_rate * dc_db) # b = b - n * grad => b -= n*grad_b"
      ],
      "metadata": {
        "id": "i40sU_ZLuy-x"
      },
      "execution_count": null,
      "outputs": []
    },
    {
      "cell_type": "code",
      "source": [
        "model = MyModel()\n",
        "\n",
        "Ws, bs = list(), list()\n",
        "\n",
        "epochs = 20\n",
        "\n",
        "learning_rate = 0.001 # LOW LEARING RATE\n",
        "\n",
        "w = model.w.numpy()\n",
        "b = model.b.numpy()\n",
        "\n",
        "init_loss = MSE_loss(y, model(x)).numpy()\n",
        "\n",
        "print(f\"initial W: {w}, initial_bias: {b}, initial loss: {init_loss}\")"
      ],
      "metadata": {
        "colab": {
          "base_uri": "https://localhost:8080/"
        },
        "outputId": "5fe08fa1-54a7-4919-fa82-148daae59586",
        "id": "YxAqCgkwuy-y"
      },
      "execution_count": null,
      "outputs": [
        {
          "output_type": "stream",
          "name": "stdout",
          "text": [
            "initial W: 5.0, initial_bias: 0.0, initial loss: 9.091070175170898\n"
          ]
        }
      ]
    },
    {
      "cell_type": "code",
      "source": [
        "for epoch in range(epochs):\n",
        "  train(model, x, y, learning_rate)\n",
        "\n",
        "  Ws.append(model.w.numpy())\n",
        "  bs.append(model.b.numpy())\n",
        "\n",
        "  current_loss = MSE_loss(y, model(x))\n",
        "\n",
        "  print(f\"For epoch: {epoch}, W: {Ws[-1]}, initial_bias: {bs[-1]}, current loss: {current_loss}\")"
      ],
      "metadata": {
        "colab": {
          "base_uri": "https://localhost:8080/"
        },
        "outputId": "ab08cd15-37d3-40eb-9484-83e1264292a9",
        "id": "Z209UJaWuy-y"
      },
      "execution_count": null,
      "outputs": [
        {
          "output_type": "stream",
          "name": "stdout",
          "text": [
            "For epoch: 0, W: 4.996077537536621, initial_bias: 0.0043081738986074924, current loss: 9.057159423828125\n",
            "For epoch: 1, W: 4.992163181304932, initial_bias: 0.008607269264757633, current loss: 9.023388862609863\n",
            "For epoch: 2, W: 4.988256454467773, initial_bias: 0.012897305190563202, current loss: 8.989757537841797\n",
            "For epoch: 3, W: 4.984357833862305, initial_bias: 0.017178300768136978, current loss: 8.956265449523926\n",
            "For epoch: 4, W: 4.980467319488525, initial_bias: 0.02145027369260788, current loss: 8.922914505004883\n",
            "For epoch: 5, W: 4.976584434509277, initial_bias: 0.025713244453072548, current loss: 8.88969898223877\n",
            "For epoch: 6, W: 4.972709655761719, initial_bias: 0.029967231675982475, current loss: 8.856621742248535\n",
            "For epoch: 7, W: 4.968842506408691, initial_bias: 0.034212253987789154, current loss: 8.823683738708496\n",
            "For epoch: 8, W: 4.9649834632873535, initial_bias: 0.03844833001494408, current loss: 8.79088020324707\n",
            "For epoch: 9, W: 4.961132049560547, initial_bias: 0.042675480246543884, current loss: 8.758212089538574\n",
            "For epoch: 10, W: 4.95728874206543, initial_bias: 0.04689371958374977, current loss: 8.72568130493164\n",
            "For epoch: 11, W: 4.953453063964844, initial_bias: 0.05110307037830353, current loss: 8.693283081054688\n",
            "For epoch: 12, W: 4.949625015258789, initial_bias: 0.05530355125665665, current loss: 8.661019325256348\n",
            "For epoch: 13, W: 4.945805072784424, initial_bias: 0.05949518084526062, current loss: 8.628890991210938\n",
            "For epoch: 14, W: 4.94199275970459, initial_bias: 0.06367797404527664, current loss: 8.596894264221191\n",
            "For epoch: 15, W: 4.938188076019287, initial_bias: 0.0678519532084465, current loss: 8.56502914428711\n",
            "For epoch: 16, W: 4.934391021728516, initial_bias: 0.0720171332359314, current loss: 8.533296585083008\n",
            "For epoch: 17, W: 4.930602073669434, initial_bias: 0.07617353647947311, current loss: 8.50169849395752\n",
            "For epoch: 18, W: 4.926820755004883, initial_bias: 0.08032117784023285, current loss: 8.47022819519043\n",
            "For epoch: 19, W: 4.923047065734863, initial_bias: 0.08446007966995239, current loss: 8.438888549804688\n"
          ]
        }
      ]
    },
    {
      "cell_type": "code",
      "source": [
        "[5]*20"
      ],
      "metadata": {
        "colab": {
          "base_uri": "https://localhost:8080/"
        },
        "outputId": "2abcf509-fe95-420c-fcab-e2ff9557ef7d",
        "id": "MyB9KnIEuy-y"
      },
      "execution_count": null,
      "outputs": [
        {
          "output_type": "execute_result",
          "data": {
            "text/plain": [
              "[5, 5, 5, 5, 5, 5, 5, 5, 5, 5, 5, 5, 5, 5, 5, 5, 5, 5, 5, 5]"
            ]
          },
          "metadata": {},
          "execution_count": 58
        }
      ]
    },
    {
      "cell_type": "code",
      "source": [
        "plt.plot(range(epochs), Ws, \"r\", range(epochs), bs, \"b\") # Training line\n",
        "\n",
        "plt.plot([TRUE_W]*epochs, \"r--\", [TRUE_B]*epochs, \"b--\") # Target line\n",
        "\n",
        "plt.legend([\"W\", \"b\", \"True W\", \"True B\"])\n",
        "\n",
        "plt.show()"
      ],
      "metadata": {
        "colab": {
          "base_uri": "https://localhost:8080/",
          "height": 265
        },
        "outputId": "799e6f69-651f-4d3f-e9e7-8c9d64788a83",
        "id": "CEKnKJnAuy-y"
      },
      "execution_count": null,
      "outputs": [
        {
          "output_type": "display_data",
          "data": {
            "text/plain": [
              "<Figure size 432x288 with 1 Axes>"
            ],
            "image/png": "[encoded data removed]"
          },
          "metadata": {
            "needs_background": "light"
          }
        }
      ]
    },
    {
      "cell_type": "code",
      "source": [
        "plt.scatter(x, y, c=\"b\")\n",
        "\n",
        "pred_y = model(x) # after training\n",
        "plt.scatter(x, pred_y, c=\"r\")\n",
        "\n",
        "plt.show()\n"
      ],
      "metadata": {
        "colab": {
          "base_uri": "https://localhost:8080/",
          "height": 265
        },
        "outputId": "2d9742be-4c1e-42f5-ca9b-3f810a29057a",
        "id": "KYRfYWE4uy-y"
      },
      "execution_count": null,
      "outputs": [
        {
          "output_type": "display_data",
          "data": {
            "text/plain": [
              "<Figure size 432x288 with 1 Axes>"
            ],
            "image/png": "[encoded data removed]"
          },
          "metadata": {
            "needs_background": "light"
          }
        }
      ]
    },
    {
      "cell_type": "code",
      "source": [],
      "metadata": {
        "id": "YlC1f2rXvICm"
      },
      "execution_count": null,
      "outputs": []
    },
    {
      "cell_type": "markdown",
      "source": [
        "z = +x+yj\n",
        "\n",
        "z = +x-yj\n",
        "\n",
        "z = -x+yj\n",
        "\n",
        "z = -x-yj\n",
        "\n",
        "z = yj\n",
        "\n",
        "z = x\n",
        "\n",
        "\n",
        "A + B\n",
        "\n",
        "A - B\n",
        "\n",
        "A * B\n",
        "\n",
        "|A|"
      ],
      "metadata": {
        "id": "RHRD_oIu7cY3"
      }
    },
    {
      "cell_type": "markdown",
      "source": [],
      "metadata": {
        "id": "2B4fVFfq8Cmx"
      }
    }
  ]
}